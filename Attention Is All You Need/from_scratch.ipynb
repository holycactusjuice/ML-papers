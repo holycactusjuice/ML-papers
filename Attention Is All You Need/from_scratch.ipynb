{
 "cells": [
  {
   "cell_type": "code",
   "execution_count": 36,
   "id": "aac33f3c-59b8-4807-88e5-c999309decb9",
   "metadata": {},
   "outputs": [],
   "source": [
    "import torch\n",
    "import torch.nn as nn\n",
    "from torch.nn import functional as F\n",
    "import torch.optim as optim\n",
    "from collections import OrderedDict\n",
    "from matplotlib import pyplot as plt\n",
    "import time"
   ]
  },
  {
   "cell_type": "code",
   "execution_count": 5,
   "id": "965b2699-2ef7-4b68-a9c8-04869a8db282",
   "metadata": {},
   "outputs": [],
   "source": [
    "device = \"cuda\" if torch.cuda.is_available() else \"mps\" if torch.backends.mps.is_available() else \"cpu\""
   ]
  },
  {
   "cell_type": "code",
   "execution_count": 6,
   "id": "712f0a9b-4e0e-48db-beb7-b55f5ffde5b3",
   "metadata": {},
   "outputs": [],
   "source": [
    "with open('shakespeare.txt', 'r', encoding='utf-8') as f:\n",
    "    text = f.read()"
   ]
  },
  {
   "cell_type": "code",
   "execution_count": 7,
   "id": "62853913-b7df-4748-953e-f5fc3fb72c25",
   "metadata": {},
   "outputs": [
    {
     "data": {
      "text/plain": [
       "['\\n',\n",
       " ' ',\n",
       " '!',\n",
       " '$',\n",
       " '&',\n",
       " \"'\",\n",
       " ',',\n",
       " '-',\n",
       " '.',\n",
       " '3',\n",
       " ':',\n",
       " ';',\n",
       " '?',\n",
       " 'A',\n",
       " 'B',\n",
       " 'C',\n",
       " 'D',\n",
       " 'E',\n",
       " 'F',\n",
       " 'G',\n",
       " 'H',\n",
       " 'I',\n",
       " 'J',\n",
       " 'K',\n",
       " 'L',\n",
       " 'M',\n",
       " 'N',\n",
       " 'O',\n",
       " 'P',\n",
       " 'Q',\n",
       " 'R',\n",
       " 'S',\n",
       " 'T',\n",
       " 'U',\n",
       " 'V',\n",
       " 'W',\n",
       " 'X',\n",
       " 'Y',\n",
       " 'Z',\n",
       " 'a',\n",
       " 'b',\n",
       " 'c',\n",
       " 'd',\n",
       " 'e',\n",
       " 'f',\n",
       " 'g',\n",
       " 'h',\n",
       " 'i',\n",
       " 'j',\n",
       " 'k',\n",
       " 'l',\n",
       " 'm',\n",
       " 'n',\n",
       " 'o',\n",
       " 'p',\n",
       " 'q',\n",
       " 'r',\n",
       " 's',\n",
       " 't',\n",
       " 'u',\n",
       " 'v',\n",
       " 'w',\n",
       " 'x',\n",
       " 'y',\n",
       " 'z']"
      ]
     },
     "execution_count": 7,
     "metadata": {},
     "output_type": "execute_result"
    }
   ],
   "source": [
    "chars = sorted(list(set(text)))\n",
    "vocab_size = len(chars)\n",
    "chars"
   ]
  },
  {
   "cell_type": "code",
   "execution_count": 8,
   "id": "6b985910-8c86-4ecd-b9e3-e0119aed3d74",
   "metadata": {},
   "outputs": [],
   "source": [
    "stoi = {ch:i for i,ch in enumerate(chars)}\n",
    "itos = {i:ch for ch,i in stoi.items()}\n",
    "\n",
    "encode = lambda s : [stoi[ch] for ch in s]\n",
    "decode = lambda l : ''.join([itos[i] for i in l])"
   ]
  },
  {
   "cell_type": "code",
   "execution_count": 9,
   "id": "a32cc2ff-d306-47fb-a99f-7d06bf8d1149",
   "metadata": {},
   "outputs": [],
   "source": [
    "data = torch.tensor(encode(text), dtype=torch.long)"
   ]
  },
  {
   "cell_type": "code",
   "execution_count": 10,
   "id": "fd742ad8-cd92-429b-90e2-1fe88ac2a83a",
   "metadata": {},
   "outputs": [],
   "source": [
    "n = int(0.9 * len(data))\n",
    "train_data = data[:n]\n",
    "val_data = data[n:]"
   ]
  },
  {
   "cell_type": "code",
   "execution_count": 11,
   "id": "01a04983-4846-4550-a267-0cc4220c0656",
   "metadata": {},
   "outputs": [],
   "source": [
    "# dimension values\n",
    "batch_size = 4\n",
    "block_size = 8\n",
    "n_embd = 32\n",
    "n_head = 4\n",
    "d_k = 32\n",
    "d_v = d_k\n",
    "n_block = 4"
   ]
  },
  {
   "cell_type": "code",
   "execution_count": 12,
   "id": "37387433-bd0c-4cbc-9a12-cc54961090b6",
   "metadata": {},
   "outputs": [],
   "source": [
    "def get_batch(split):\n",
    "    # need to get batch_size number of samples\n",
    "    # choose from the specified split\n",
    "    split_data = train_data if split == 'train' else val_data\n",
    "\n",
    "    # get batch_size number of starting indicies\n",
    "    ix = torch.randint(len(split_data) - block_size - 1, (batch_size,))\n",
    "\n",
    "    # for each i in ix,\n",
    "    # i is the starting index\n",
    "    # so we take from i to i + block_size\n",
    "    x = torch.stack([split_data[i:i+block_size] for i in ix])\n",
    "    # y is just the element after each x\n",
    "    y = torch.stack([split_data[i+1:i+block_size+1] for i in ix])\n",
    "\n",
    "    x, y = x.to(device), y.to(device)\n",
    "\n",
    "    return x, y"
   ]
  },
  {
   "cell_type": "code",
   "execution_count": 13,
   "id": "ebe02733-61a0-4682-a1d5-0e1d9aff4e85",
   "metadata": {},
   "outputs": [],
   "source": [
    "class Head(nn.Module):\n",
    "\n",
    "    def __init__(self, n_embd, n_head, block_size, dropout=0.1):\n",
    "        super().__init__()\n",
    "        \n",
    "        self.n_embd = n_embd\n",
    "        self.n_head = n_head\n",
    "        self.d_k = n_embd // n_head\n",
    "        \n",
    "        assert (self.n_head * self.d_k == self.n_embd), \"Embedding size not divisible by number of heads\"\n",
    "\n",
    "        self.query = nn.Linear(self.n_embd, self.d_k)\n",
    "        self.key = nn.Linear(self.n_embd, self.d_k)\n",
    "        self.value = nn.Linear(self.n_embd, self.d_k)\n",
    "\n",
    "        self.register_buffer('tril', torch.tril(torch.ones(block_size, block_size))) # (T, T)\n",
    "        self.dropout = nn.Dropout(dropout)\n",
    "\n",
    "    def forward(self, X):\n",
    "        B, T, C = X.shape\n",
    "        # essentially doing X @ W_Q\n",
    "        # dims are (B, T, C) @ (T, n_embd) -> (B, T, n_embd)\n",
    "        Q = self.query(X)\n",
    "        K = self.key(X)\n",
    "        V = self.value(X)\n",
    "\n",
    "        # ----- QUESTION: Which dimensions do we transpose? -----\n",
    "        # The shape of K is (B, T, n_embd)\n",
    "        # We want to matrix multiply with Q, which is also (B, T, n_embd)\n",
    "        # We ignore the batch dimension, so we transpose T and n_embd\n",
    "        # ----- ANSWER: The last two dimensions, -2 and -1\n",
    "        weights = Q @ K.transpose(-2, -1) # we want to transpose the last two dimensions\n",
    "        weights /= self.d_k**0.5\n",
    "\n",
    "        # dims are now (B, T, T)\n",
    "\n",
    "        # Mask the weights to be lower-triangular\n",
    "        # This prevents the model from attending to future tokens\n",
    "        weights = weights.masked_fill(self.tril[:T, :T] == 0, float('-inf'))\n",
    "        \n",
    "        # ----- QUESTION: Which dimension do we want to softmax over? -----\n",
    "        # The shape of out is currently (B, T, T)\n",
    "        # - B is the batch dimension\n",
    "        # - since we produced this through Q @ K^T,\n",
    "        #     - the first T represents the query tokens (since it came from Q)\n",
    "        #     - the second T represents the key tokens (since it came from K)\n",
    "        # we want the values in the key dimension to become probabilities,\n",
    "        # so we softmax over the second T\n",
    "        # ----- ANSWER: The key dimension, -1 -----\n",
    "        weights = F.softmax(weights, dim=-1)\n",
    "        weights = self.dropout(weights)\n",
    "        out = weights @ V\n",
    "\n",
    "        # dims are now (B, T, d_k)\n",
    "\n",
    "        return out"
   ]
  },
  {
   "cell_type": "code",
   "execution_count": 14,
   "id": "b985f007-6374-4180-a08a-be0b58319a9a",
   "metadata": {},
   "outputs": [],
   "source": [
    "class MultiHeadAttention(nn.Module):\n",
    "\n",
    "    def __init__(self, n_embd, n_head, block_size):\n",
    "        super().__init__()\n",
    "\n",
    "        self.n_embd = n_embd\n",
    "        self.n_head = n_head\n",
    "\n",
    "        self.heads = nn.ModuleList([Head(n_embd, n_head, block_size) for _ in range(n_head)])\n",
    "        self.projection = nn.Linear(n_embd, n_embd)\n",
    "\n",
    "    def forward(self, X):\n",
    "        out = torch.cat([head(X) for head in self.heads], dim=-1)\n",
    "        out = self.projection(out)\n",
    "        return out"
   ]
  },
  {
   "cell_type": "code",
   "execution_count": 15,
   "id": "6fb465cc-1d58-45c1-8219-4b0da289e143",
   "metadata": {},
   "outputs": [],
   "source": [
    "class LayerNorm(nn.Module):\n",
    "\n",
    "    def __init__(self, dim):\n",
    "        super().__init__()\n",
    "\n",
    "        # LayerNorm includes scale (gamma) and shift (beta) parameters\n",
    "        self.gamma = nn.Parameter(torch.ones(dim))\n",
    "        self.beta = nn.Parameter(torch.zeros(dim))\n",
    "\n",
    "    def forward(self, X):\n",
    "        # ----- QUESTION: Which dimension do we want to normalize across? -----\n",
    "        # Our dims are (B, T, n_embd)\n",
    "        # - B is the number of batches\n",
    "        # - T is the number of tokens in each sequence\n",
    "        # - n_embd is the embedding dimension, or the number of features that represents each token\n",
    "        # We want to normalize across the feature dimension to normalize the activations of each token independently.\n",
    "        # This ensures that each token has a similar distrbution of activations, regardless of its position in the sequence.\n",
    "        # ----- ANSWER: The feature dimension, -1\n",
    "        X = X - X.mean(dim=-1, keepdim=True)\n",
    "        X = X / torch.sqrt((X.var(dim=-1, keepdim=True) + 1e-5))\n",
    "        X = self.gamma * X + self.beta\n",
    "        \n",
    "        return X"
   ]
  },
  {
   "cell_type": "code",
   "execution_count": 16,
   "id": "1ae02d7e-cbe0-4772-b2fa-a9a4da273015",
   "metadata": {},
   "outputs": [],
   "source": [
    "class FeedForward(nn.Module):\n",
    "\n",
    "    def __init__(self, input_dim, output_dim):\n",
    "        super().__init__()\n",
    "\n",
    "        hidden_dim = 4 * input_dim\n",
    "\n",
    "        self.layers = nn.Sequential(OrderedDict([\n",
    "            ('fc1', nn.Linear(input_dim, hidden_dim)),\n",
    "            ('relu', nn.ReLU()),\n",
    "            ('fc2', nn.Linear(hidden_dim, output_dim))\n",
    "        ]))\n",
    "\n",
    "    def forward(self, X):\n",
    "        out = self.layers(X)\n",
    "        return out"
   ]
  },
  {
   "cell_type": "code",
   "execution_count": 17,
   "id": "33b4dd25-fe95-4529-8d73-625c0e587132",
   "metadata": {},
   "outputs": [],
   "source": [
    "class Block(nn.Module):\n",
    "\n",
    "    def __init__(self, n_embd, n_head, block_size):\n",
    "        super().__init__()\n",
    "\n",
    "        self.attention = MultiHeadAttention(n_embd, n_head, block_size)\n",
    "        self.ln1 = LayerNorm(n_embd)\n",
    "        self.feedforward = FeedForward(n_embd, n_embd)\n",
    "        self.ln2 = LayerNorm(n_embd)\n",
    "\n",
    "    def forward(self, X):\n",
    "        X = X + self.attention(self.ln1(X))\n",
    "        X = X + self.feedforward(self.ln2(X))\n",
    "        return X"
   ]
  },
  {
   "cell_type": "code",
   "execution_count": 20,
   "id": "1e6a2510-524b-414d-b7d9-315736482ccd",
   "metadata": {},
   "outputs": [],
   "source": [
    "class LanguageModel(nn.Module):\n",
    "\n",
    "    def __init__(self, vocab_size, n_embd, n_head, block_size, n_block):\n",
    "        super().__init__()\n",
    "\n",
    "        self.token_embedding_table = nn.Embedding(vocab_size, n_embd)\n",
    "        self.position_embedding_table = nn.Embedding(block_size, n_embd) # Needs same dimensions as input after token embedding\n",
    "        self.blocks = nn.Sequential(*[Block(n_embd, n_head, block_size) for _ in range(n_block)]) # Need to unpack list\n",
    "        # After the blocks, the dim is (B, T, n_embd)\n",
    "        # We want to project this to probabiliites for the next character, so we need (n_embd, vocab_size)\n",
    "        # ----- QUESTION: Why is the T dimension still here and what does it represent? -----\n",
    "        # The T dimension is the time dimension. Recall that we are passing in multiple examples with one sequence.\n",
    "        # This is because we are simultaneously predicting the 2nd char from the 1st, the 3rd from the 1st and 2nd, etc.\n",
    "        # ----- ANSWER: We have multiple time-dependent examples in one input sequence.\n",
    "        self.projection = nn.Linear(n_embd, vocab_size)\n",
    "\n",
    "    def forward(self, X):\n",
    "        B, T = X.shape\n",
    "        # (B, T)\n",
    "        X_embd = self.token_embedding_table(X) + self.position_embedding_table(torch.arange(T, device=device))\n",
    "        # (B, T, n_embd)\n",
    "        X_blocks = self.blocks(X_embd)\n",
    "        # (B, T, n_embd)\n",
    "        logits = self.projection(X_blocks)\n",
    "        # (B, T, vocab_size)\n",
    "        # probs = logits.softmax(dim=-1)\n",
    "        # (B, T, vocab_size)\n",
    "        return logits\n",
    "\n",
    "    @torch.no_grad()\n",
    "    def generate(self, idx, max_new_tokens):\n",
    "        # Keep in mind that idx is a sequence of encoded values\n",
    "        for _ in range(max_new_tokens):\n",
    "            # We can only take up to block_size, so crop idx\n",
    "            # Don't forget about the batch dimension, even though it's 1\n",
    "            idx_cropped = idx[:, -block_size:]\n",
    "            logits = self(idx_cropped)\n",
    "            # We will sample from the last time step\n",
    "            # Keep in mind that logits is now (B, T, C)\n",
    "            logits = logits[:, -1, :]\n",
    "            # We want to softmax over the probabilities\n",
    "            probs = F.softmax(logits, dim=-1)\n",
    "            # Sample\n",
    "            next_idx = torch.multinomial(probs, num_samples=1)\n",
    "            # idx has dim (B, T)\n",
    "            # next_idx has dim (B, 1)\n",
    "            # So we need to concatenate over the last dim\n",
    "            idx = torch.cat((idx, next_idx), dim=-1)\n",
    "        return idx"
   ]
  },
  {
   "cell_type": "code",
   "execution_count": 21,
   "id": "cee40e24-d7e0-4bad-8a26-1ecff72f603c",
   "metadata": {},
   "outputs": [
    {
     "name": "stdout",
     "output_type": "stream",
     "text": [
      "\n",
      "Xo'.isA;ON\n"
     ]
    }
   ],
   "source": [
    "x, y = get_batch('train')\n",
    "model = LanguageModel(vocab_size, n_embd, n_head, block_size, n_block)\n",
    "m = model.to(device)\n",
    "context = torch.zeros((1, 1), dtype=torch.long, device=device)\n",
    "result = m.generate(context, 10)\n",
    "print(decode(result[0].tolist()))"
   ]
  },
  {
   "cell_type": "code",
   "execution_count": 22,
   "id": "c20d28c0-71fc-4189-a17b-a849e525d6fc",
   "metadata": {},
   "outputs": [],
   "source": [
    "learning_rate = 0.001\n",
    "max_iters = 100000"
   ]
  },
  {
   "cell_type": "code",
   "execution_count": 23,
   "id": "87947570-c66c-4e4f-9ddf-ee698e8cccfd",
   "metadata": {},
   "outputs": [],
   "source": [
    "loss_fn = nn.CrossEntropyLoss()"
   ]
  },
  {
   "cell_type": "code",
   "execution_count": 24,
   "id": "a1a13e29-dcd7-4ba9-bec1-42baa9b22e08",
   "metadata": {},
   "outputs": [],
   "source": [
    "optimizer = optim.AdamW(model.parameters(), lr=learning_rate)"
   ]
  },
  {
   "cell_type": "code",
   "execution_count": 37,
   "id": "56f0a1fd-c239-4c8a-9207-5288a6d83798",
   "metadata": {},
   "outputs": [
    {
     "name": "stdout",
     "output_type": "stream",
     "text": [
      "1000 / 5000 | Loss: 1.7332\n",
      "2000 / 5000 | Loss: 1.3858\n",
      "3000 / 5000 | Loss: 1.9591\n",
      "4000 / 5000 | Loss: 1.9368\n",
      "5000 / 5000 | Loss: 1.5342\n",
      "Average time per 1000 iterations: 23.37061743736267\n"
     ]
    }
   ],
   "source": [
    "# TRAINING LOOP\n",
    "\n",
    "max_iters = 5000\n",
    "\n",
    "start = time.time()\n",
    "\n",
    "loss_data = []\n",
    "\n",
    "for iter in range(max_iters):\n",
    "    xb, yb = get_batch('train')\n",
    "\n",
    "    # Forward Pass\n",
    "    logits = m(xb)\n",
    "    loss = loss_fn(logits.transpose(-2, -1), yb)\n",
    "\n",
    "    # Backward Pass\n",
    "    optimizer.zero_grad(set_to_none=True) # clear all gradients\n",
    "    loss.backward()\n",
    "    optimizer.step()\n",
    "\n",
    "    if (iter+1) % 1000 == 0:\n",
    "        print(f\"{iter+1} / {max_iters} | Loss: {loss.item():.4f}\")\n",
    "    loss_data.append(loss.item())\n",
    "\n",
    "end = time.time()\n",
    "\n",
    "print(\"Average time per 1000 iterations:\", (end - start)/max_iters*1000)"
   ]
  },
  {
   "cell_type": "code",
   "execution_count": 32,
   "id": "f9213172-2cce-4879-b9a9-e3fe504a2cd4",
   "metadata": {},
   "outputs": [
    {
     "data": {
      "text/plain": [
       "[<matplotlib.lines.Line2D at 0x1f923337380>]"
      ]
     },
     "execution_count": 32,
     "metadata": {},
     "output_type": "execute_result"
    },
    {
     "data": {
      "image/png": "[encoded data removed]",
      "text/plain": [
       "<Figure size 640x480 with 1 Axes>"
      ]
     },
     "metadata": {},
     "output_type": "display_data"
    }
   ],
   "source": [
    "averaged_loss_data = [sum(loss_data[5000*i:5000*(i+1)]) / 5000 for i in range(max_iters//5000)]\n",
    "plt.plot(averaged_loss_data)"
   ]
  },
  {
   "cell_type": "code",
   "execution_count": 30,
   "id": "59726260-5b51-4995-99ff-95c659b92cc5",
   "metadata": {},
   "outputs": [
    {
     "name": "stdout",
     "output_type": "stream",
     "text": [
      "\n",
      "The dumidery: that deay! Be sore:\n",
      "Relt and the'e non thou \n",
      "God not lith murditime not bestock to Do GRLOHUS:\n",
      "Blood for word:\n",
      "She litureren\n",
      "Fare the own town mastance,\n",
      "Hanst weep for him!\n",
      "Fyou they cang I thy in the sumsteruern-give ome\n",
      "To thee\n",
      "Shall shall:\n",
      "And your quaents no cantatin tepessed, I ammatched-bayest au-stoed, creaso drefore let the nothinest with now, if thmad dink in the crom thurd:\n",
      "Streat they lord id\n",
      "Yor gentaing be\n",
      "There vost the in them the geven thou gr-dish seep,\n",
      "Even to bid kine hath your nawe live,\n",
      "Sir!\n",
      "And nobt,\n",
      "Nor broth us freates thou faeth thou sworionstry.\n",
      "Ble proings or, good let now my mine ond afteg\n",
      "thou bark, shake day is good be do Rique is erther, vad other, polk, drown my gone with\n",
      "thy\n",
      "matted her hear the this Secold od istant Nother; and truey with: where priled,\n",
      "Dod full cosides were Ort thee woe throle to d you; see,\n",
      "Be life to Rutublien, igity!\n",
      "Wholord not is repossapled\n",
      "\n",
      "DUCHESRENENIUS:\n",
      "Vin?\n",
      "\n",
      "LEONUT:\n",
      "Fet cold:\n",
      "That dear, an sedball qreath, siAnd\n"
     ]
    }
   ],
   "source": [
    "context = torch.zeros((1, 1), dtype=torch.long, device=device)\n",
    "result = m.generate(context, 1000)\n",
    "print(decode(result[0].tolist()))"
   ]
  },
  {
   "cell_type": "code",
   "execution_count": 33,
   "id": "0a1de661-cabb-4aef-a2a0-d24164acd34a",
   "metadata": {},
   "outputs": [
    {
     "name": "stdout",
     "output_type": "stream",
     "text": [
      "\n",
      "CORIOLANUS:\n",
      "Had's troum.\n",
      "\n",
      "KING RICHARD:\n",
      "I? and fittled comanly;\n",
      "And me that there!\n",
      "\n",
      "SWORD EDWARTHARIANA:\n",
      "Pare.\n",
      "\n",
      "ARK:\n",
      "Neilook, my bly can her such is our cemble\n",
      "TOZCOMEO:\n",
      "And mannes of maysece's dolait:\n",
      "Fare I kies;\n",
      "And you mardioblinevers that sow'lish wight:\n",
      "And the kine hat the wath see gious, comause thee, timer hig to the down chazen:\n",
      "The houw fullous him werechardly, for hear it, myselfaisse, weret's maother new loves by to they meat's pour to up fands you! Yeckitate lavay double let that dhousan'd galther clo,\n",
      ".\n",
      "\n",
      "Hele be to lest! come 'tcound of allow her of blefil To stand\n",
      "Mayfull pudves, he so juckislen thy gofe too doors, selfs 'tis thute would, for your to boy;\n",
      "Ere hamd justy to of kejelivens mentigl'd, to love!\n",
      "\n",
      "PMMERLK:\n",
      "But stay there jouse\n",
      "Thou suck on Pirace\n",
      "\n",
      "VOLUMNIA:\n",
      "The mawhernine! Aut loved your goes.\n",
      "\n",
      "MENENENIUS:\n",
      "In Pray that caipe woull hat I see\n",
      "Of is folk men\n",
      "This Edwardly-to loves the\n",
      "his may waster'd awlysss'le tono lives time oftes sign'd, with you Propteuct au\n"
     ]
    }
   ],
   "source": [
    "context = torch.zeros((1, 1), dtype=torch.long, device=device)\n",
    "result = m.generate(context, 1000)\n",
    "print(decode(result[0].tolist()))"
   ]
  },
  {
   "cell_type": "code",
   "execution_count": 35,
   "id": "04cc87ef-7651-41b1-a310-a3146ccabff5",
   "metadata": {},
   "outputs": [
    {
     "name": "stdout",
     "output_type": "stream",
     "text": [
      "\n",
      "A morte to That,\n",
      "Why, o',\n",
      "Beling worljude not steath!\n",
      "\n",
      "Thursacn, mhy mortheating heave  Romeo adving hander,\n",
      "Will no would!\n",
      "They will heriy,\n",
      "Or ault, I clawn detoly greaster:\n",
      "Ay, in hat, and amprouds uppore,\n",
      "Evese some, heartst;\n",
      "Herestering your hape besteman:\n",
      "Then shope: I am, what hungurat's you'll drave if'd have punst hoat now the honour stay,\n",
      "But where I secuvous,\n",
      "Patamal your more.\n",
      "\n",
      "LUCTA:\n",
      "Gone is the hears at castion my fillah'd maintin\n",
      "strace uplive, gove?\n",
      "\n",
      "KING RICHARD II:\n",
      "To stribling as wath thy so, by to his duck.\n",
      "\n",
      "CAPULEO:\n",
      "Where counthe,\n",
      "Lookest by thou strother:\n",
      "Which home\n",
      "To haver from the words you unlime\n",
      "To enter wear the givent. Lesp, Seconild in my chate this\n",
      "know blooder?\n",
      "\n",
      "HHENRY BOLA:\n",
      "Ay, We sawd what houst hade shall cofforms,\n",
      "To go him a powntimes;\n",
      "Thank Good wake besweet good you shalts you wither.\n",
      "Dow?\n",
      "\n",
      "GRECHARDY:\n",
      "My dearth,-\n",
      "O, commman:\n",
      "As content this faather.\n",
      "\n",
      "THUMB:\n",
      "Shall I do mish,\n",
      "Now quiance, no lack,\n",
      "Do a firres,\n",
      "When the ammed as fair:\n",
      "Now.\n",
      "Good fearse\n"
     ]
    }
   ],
   "source": [
    "context = torch.zeros((1, 1), dtype=torch.long, device=device)\n",
    "result = m.generate(context, 1000)\n",
    "print(decode(result[0].tolist()))"
   ]
  },
  {
   "cell_type": "code",
   "execution_count": null,
   "id": "62e836c1-1a56-4e15-895c-00f0878ca0fb",
   "metadata": {},
   "outputs": [],
   "source": []
  }
 ],
 "metadata": {
  "kernelspec": {
   "display_name": "Python 3 (ipykernel)",
   "language": "python",
   "name": "python3"
  },
  "language_info": {
   "codemirror_mode": {
    "name": "ipython",
    "version": 3
   },
   "file_extension": ".py",
   "mimetype": "text/x-python",
   "name": "python",
   "nbconvert_exporter": "python",
   "pygments_lexer": "ipython3",
   "version": "3.12.5"
  }
 },
 "nbformat": 4,
 "nbformat_minor": 5
}
