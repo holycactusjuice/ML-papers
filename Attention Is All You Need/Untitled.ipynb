{
 "cells": [
  {
   "cell_type": "code",
   "execution_count": 16,
   "id": "aac33f3c-59b8-4807-88e5-c999309decb9",
   "metadata": {},
   "outputs": [],
   "source": [
    "import torch\n",
    "import torch.nn\n",
    "from torch.nn import functional as F"
   ]
  },
  {
   "cell_type": "code",
   "execution_count": 3,
   "id": "965b2699-2ef7-4b68-a9c8-04869a8db282",
   "metadata": {},
   "outputs": [],
   "source": [
    "device = \"cuda\" if torch.cuda.is_available() else \"mps\" if torch.backends.mps.is_available() else \"cpu\""
   ]
  },
  {
   "cell_type": "code",
   "execution_count": 4,
   "id": "712f0a9b-4e0e-48db-beb7-b55f5ffde5b3",
   "metadata": {},
   "outputs": [],
   "source": [
    "with open('shakespeare.txt', 'r', encoding='utf-8') as f:\n",
    "    text = f.read()"
   ]
  },
  {
   "cell_type": "code",
   "execution_count": 17,
   "id": "62853913-b7df-4748-953e-f5fc3fb72c25",
   "metadata": {},
   "outputs": [],
   "source": [
    "chars = sorted(list(set(text)))\n",
    "vocab_size = len(chars)"
   ]
  },
  {
   "cell_type": "code",
   "execution_count": 6,
   "id": "6b985910-8c86-4ecd-b9e3-e0119aed3d74",
   "metadata": {},
   "outputs": [],
   "source": [
    "stoi = {ch:i for i,ch in enumerate(chars)}\n",
    "itos = {i:ch for ch,i in stoi.items()}\n",
    "\n",
    "encode = lambda s : [stoi[ch] for ch in s]\n",
    "decode = lambda l : ''.join([itos[i] for i in l])"
   ]
  },
  {
   "cell_type": "code",
   "execution_count": 7,
   "id": "a32cc2ff-d306-47fb-a99f-7d06bf8d1149",
   "metadata": {},
   "outputs": [],
   "source": [
    "data = torch.tensor(encode(text), dtype=torch.long)"
   ]
  },
  {
   "cell_type": "code",
   "execution_count": 8,
   "id": "fd742ad8-cd92-429b-90e2-1fe88ac2a83a",
   "metadata": {},
   "outputs": [],
   "source": [
    "n = int(0.9 * len(data))\n",
    "train_data = data[:n]\n",
    "val_data = data[:n]"
   ]
  },
  {
   "cell_type": "code",
   "execution_count": 13,
   "id": "01a04983-4846-4550-a267-0cc4220c0656",
   "metadata": {},
   "outputs": [],
   "source": [
    "# dimension values\n",
    "batch_size = 4\n",
    "block_size = 8\n",
    "n_embd = 32\n",
    "n_head = 4\n",
    "d_k = 32\n",
    "d_v = d_k"
   ]
  },
  {
   "cell_type": "code",
   "execution_count": 10,
   "id": "37387433-bd0c-4cbc-9a12-cc54961090b6",
   "metadata": {},
   "outputs": [],
   "source": [
    "def get_batch(split):\n",
    "    # need to get batch_size number of samples\n",
    "    # choose from the specified split\n",
    "    split_data = train_data if split == 'train' else val_data\n",
    "\n",
    "    # get batch_size number of starting indicies\n",
    "    ix = torch.randint(len(split_data) - block_size, (batch_size,))\n",
    "\n",
    "    print(ix.shape)\n",
    "\n",
    "    # for each i in ix,\n",
    "    # i is the starting index\n",
    "    # so we take from i to i + block_size\n",
    "    x = torch.stack([split_data[i:i+block_size] for i in ix])\n",
    "    # y is just the element after each x\n",
    "    y = torch.stack([split_data[i+1:i+block_size+1] for i in ix])\n",
    "\n",
    "    return x, y"
   ]
  },
  {
   "cell_type": "code",
   "execution_count": 14,
   "id": "51e03c5e-ab15-4aa1-85c5-ca2efa0068f6",
   "metadata": {},
   "outputs": [
    {
     "name": "stdout",
     "output_type": "stream",
     "text": [
      "torch.Size([4])\n"
     ]
    },
    {
     "data": {
      "text/plain": [
       "tensor([[42, 57,  1, 46, 43,  1, 51, 63],\n",
       "        [30, 16,  1, 21, 34, 10,  0, 14],\n",
       "        [10,  0, 32, 46, 43, 56, 43,  1],\n",
       "        [46, 43, 57, 58,  8,  0,  0, 19]])"
      ]
     },
     "execution_count": 14,
     "metadata": {},
     "output_type": "execute_result"
    }
   ],
   "source": [
    "xb, yb = get_batch('train')\n",
    "xb"
   ]
  },
  {
   "cell_type": "code",
   "execution_count": null,
   "id": "ebe02733-61a0-4682-a1d5-0e1d9aff4e85",
   "metadata": {},
   "outputs": [],
   "source": [
    "class SelfAttention(nn.Module):\n",
    "\n",
    "    def __init__(self, n_embd, n_head):\n",
    "        \n",
    "        self.n_embd = n_embd\n",
    "        self.n_head = n_head\n",
    "        self.d_k = n_embd // n_head\n",
    "        \n",
    "        assert (self.n_head * self.d_k == self.n_embd), \"Embedding size not divisible by number of heads\"\n",
    "\n",
    "        self.query = nn.Linear(self.n_embd, self.d_k)\n",
    "        self.key = nn.Linear(self.n_embd, self.d_k)\n",
    "        self.value = nn.Linear(self.n_embd, self.d_k)\n",
    "\n",
    "    def forward(self, X):\n",
    "        Q = self.query(X)\n",
    "        K = self.key(X)\n",
    "        V = self.value(X)\n",
    "\n",
    "        "
   ]
  }
 ],
 "metadata": {
  "kernelspec": {
   "display_name": "Python 3 (ipykernel)",
   "language": "python",
   "name": "python3"
  },
  "language_info": {
   "codemirror_mode": {
    "name": "ipython",
    "version": 3
   },
   "file_extension": ".py",
   "mimetype": "text/x-python",
   "name": "python",
   "nbconvert_exporter": "python",
   "pygments_lexer": "ipython3",
   "version": "3.12.5"
  }
 },
 "nbformat": 4,
 "nbformat_minor": 5
}
