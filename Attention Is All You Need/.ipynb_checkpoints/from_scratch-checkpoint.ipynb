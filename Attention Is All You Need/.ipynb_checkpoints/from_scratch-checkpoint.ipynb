{
 "cells": [
  {
   "cell_type": "code",
   "execution_count": 47,
   "id": "aac33f3c-59b8-4807-88e5-c999309decb9",
   "metadata": {},
   "outputs": [],
   "source": [
    "import torch\n",
    "import torch.nn as nn\n",
    "from torch.nn import functional as F\n",
    "import torch.optim as optim\n",
    "from collections import OrderedDict\n",
    "from matplotlib import pyplot as plt"
   ]
  },
  {
   "cell_type": "code",
   "execution_count": 33,
   "id": "965b2699-2ef7-4b68-a9c8-04869a8db282",
   "metadata": {},
   "outputs": [],
   "source": [
    "device = \"cuda\" if torch.cuda.is_available() else \"mps\" if torch.backends.mps.is_available() else \"cpu\""
   ]
  },
  {
   "cell_type": "code",
   "execution_count": 3,
   "id": "712f0a9b-4e0e-48db-beb7-b55f5ffde5b3",
   "metadata": {},
   "outputs": [],
   "source": [
    "with open('shakespeare.txt', 'r', encoding='utf-8') as f:\n",
    "    text = f.read()"
   ]
  },
  {
   "cell_type": "code",
   "execution_count": 4,
   "id": "62853913-b7df-4748-953e-f5fc3fb72c25",
   "metadata": {},
   "outputs": [
    {
     "data": {
      "text/plain": [
       "['\\n',\n",
       " ' ',\n",
       " '!',\n",
       " '$',\n",
       " '&',\n",
       " \"'\",\n",
       " ',',\n",
       " '-',\n",
       " '.',\n",
       " '3',\n",
       " ':',\n",
       " ';',\n",
       " '?',\n",
       " 'A',\n",
       " 'B',\n",
       " 'C',\n",
       " 'D',\n",
       " 'E',\n",
       " 'F',\n",
       " 'G',\n",
       " 'H',\n",
       " 'I',\n",
       " 'J',\n",
       " 'K',\n",
       " 'L',\n",
       " 'M',\n",
       " 'N',\n",
       " 'O',\n",
       " 'P',\n",
       " 'Q',\n",
       " 'R',\n",
       " 'S',\n",
       " 'T',\n",
       " 'U',\n",
       " 'V',\n",
       " 'W',\n",
       " 'X',\n",
       " 'Y',\n",
       " 'Z',\n",
       " 'a',\n",
       " 'b',\n",
       " 'c',\n",
       " 'd',\n",
       " 'e',\n",
       " 'f',\n",
       " 'g',\n",
       " 'h',\n",
       " 'i',\n",
       " 'j',\n",
       " 'k',\n",
       " 'l',\n",
       " 'm',\n",
       " 'n',\n",
       " 'o',\n",
       " 'p',\n",
       " 'q',\n",
       " 'r',\n",
       " 's',\n",
       " 't',\n",
       " 'u',\n",
       " 'v',\n",
       " 'w',\n",
       " 'x',\n",
       " 'y',\n",
       " 'z']"
      ]
     },
     "execution_count": 4,
     "metadata": {},
     "output_type": "execute_result"
    }
   ],
   "source": [
    "chars = sorted(list(set(text)))\n",
    "vocab_size = len(chars)\n",
    "chars"
   ]
  },
  {
   "cell_type": "code",
   "execution_count": 5,
   "id": "6b985910-8c86-4ecd-b9e3-e0119aed3d74",
   "metadata": {},
   "outputs": [],
   "source": [
    "stoi = {ch:i for i,ch in enumerate(chars)}\n",
    "itos = {i:ch for ch,i in stoi.items()}\n",
    "\n",
    "encode = lambda s : [stoi[ch] for ch in s]\n",
    "decode = lambda l : ''.join([itos[i] for i in l])"
   ]
  },
  {
   "cell_type": "code",
   "execution_count": 6,
   "id": "a32cc2ff-d306-47fb-a99f-7d06bf8d1149",
   "metadata": {},
   "outputs": [],
   "source": [
    "data = torch.tensor(encode(text), dtype=torch.long)"
   ]
  },
  {
   "cell_type": "code",
   "execution_count": 7,
   "id": "fd742ad8-cd92-429b-90e2-1fe88ac2a83a",
   "metadata": {},
   "outputs": [],
   "source": [
    "n = int(0.9 * len(data))\n",
    "train_data = data[:n]\n",
    "val_data = data[n:]"
   ]
  },
  {
   "cell_type": "code",
   "execution_count": 8,
   "id": "01a04983-4846-4550-a267-0cc4220c0656",
   "metadata": {},
   "outputs": [],
   "source": [
    "# dimension values\n",
    "batch_size = 4\n",
    "block_size = 8\n",
    "n_embd = 32\n",
    "n_head = 4\n",
    "d_k = 32\n",
    "d_v = d_k\n",
    "n_block = 4"
   ]
  },
  {
   "cell_type": "code",
   "execution_count": 25,
   "id": "37387433-bd0c-4cbc-9a12-cc54961090b6",
   "metadata": {},
   "outputs": [],
   "source": [
    "def get_batch(split):\n",
    "    # need to get batch_size number of samples\n",
    "    # choose from the specified split\n",
    "    split_data = train_data if split == 'train' else val_data\n",
    "\n",
    "    # get batch_size number of starting indicies\n",
    "    ix = torch.randint(len(split_data) - block_size - 1, (batch_size,))\n",
    "\n",
    "    # for each i in ix,\n",
    "    # i is the starting index\n",
    "    # so we take from i to i + block_size\n",
    "    x = torch.stack([split_data[i:i+block_size] for i in ix])\n",
    "    # y is just the element after each x\n",
    "    y = torch.stack([split_data[i+1:i+block_size+1] for i in ix])\n",
    "\n",
    "    x, y = x.to(device), y.to(device)\n",
    "\n",
    "    return x, y"
   ]
  },
  {
   "cell_type": "code",
   "execution_count": 26,
   "id": "ebe02733-61a0-4682-a1d5-0e1d9aff4e85",
   "metadata": {},
   "outputs": [],
   "source": [
    "class Head(nn.Module):\n",
    "\n",
    "    def __init__(self, n_embd, n_head, block_size, dropout=0.1):\n",
    "        super().__init__()\n",
    "        \n",
    "        self.n_embd = n_embd\n",
    "        self.n_head = n_head\n",
    "        self.d_k = n_embd // n_head\n",
    "        \n",
    "        assert (self.n_head * self.d_k == self.n_embd), \"Embedding size not divisible by number of heads\"\n",
    "\n",
    "        self.query = nn.Linear(self.n_embd, self.d_k)\n",
    "        self.key = nn.Linear(self.n_embd, self.d_k)\n",
    "        self.value = nn.Linear(self.n_embd, self.d_k)\n",
    "\n",
    "        self.register_buffer('tril', torch.tril(torch.ones(block_size, block_size))) # (T, T)\n",
    "        self.dropout = nn.Dropout(dropout)\n",
    "\n",
    "    def forward(self, X):\n",
    "        B, T, C = X.shape\n",
    "        # essentially doing X @ W_Q\n",
    "        # dims are (B, T, C) @ (T, n_embd) -> (B, T, n_embd)\n",
    "        Q = self.query(X)\n",
    "        K = self.key(X)\n",
    "        V = self.value(X)\n",
    "\n",
    "        # ----- QUESTION: Which dimensions do we transpose? -----\n",
    "        # The shape of K is (B, T, n_embd)\n",
    "        # We want to matrix multiply with Q, which is also (B, T, n_embd)\n",
    "        # We ignore the batch dimension, so we transpose T and n_embd\n",
    "        # ----- ANSWER: The last two dimensions, -2 and -1\n",
    "        weights = Q @ K.transpose(-2, -1) # we want to transpose the last two dimensions\n",
    "        weights /= self.d_k**0.5\n",
    "\n",
    "        # dims are now (B, T, T)\n",
    "\n",
    "        # Mask the weights to be lower-triangular\n",
    "        # This prevents the model from attending to future tokens\n",
    "        weights = weights.masked_fill(self.tril[:T, :T] == 0, float('-inf'))\n",
    "        \n",
    "        # ----- QUESTION: Which dimension do we want to softmax over? -----\n",
    "        # The shape of out is currently (B, T, T)\n",
    "        # - B is the batch dimension\n",
    "        # - since we produced this through Q @ K^T,\n",
    "        #     - the first T represents the query tokens (since it came from Q)\n",
    "        #     - the second T represents the key tokens (since it came from K)\n",
    "        # we want the values in the key dimension to become probabilities,\n",
    "        # so we softmax over the second T\n",
    "        # ----- ANSWER: The key dimension, -1 -----\n",
    "        weights = F.softmax(weights, dim=-1)\n",
    "        weights = self.dropout(weights)\n",
    "        out = weights @ V\n",
    "\n",
    "        # dims are now (B, T, d_k)\n",
    "\n",
    "        return out"
   ]
  },
  {
   "cell_type": "code",
   "execution_count": 27,
   "id": "b985f007-6374-4180-a08a-be0b58319a9a",
   "metadata": {},
   "outputs": [],
   "source": [
    "class MultiHeadAttention(nn.Module):\n",
    "\n",
    "    def __init__(self, n_embd, n_head, block_size):\n",
    "        super().__init__()\n",
    "\n",
    "        self.n_embd = n_embd\n",
    "        self.n_head = n_head\n",
    "\n",
    "        self.heads = nn.ModuleList([Head(n_embd, n_head, block_size) for _ in range(n_head)])\n",
    "        self.projection = nn.Linear(n_embd, n_embd)\n",
    "\n",
    "    def forward(self, X):\n",
    "        out = torch.cat([head(X) for head in self.heads], dim=-1)\n",
    "        out = self.projection(out)\n",
    "        return out"
   ]
  },
  {
   "cell_type": "code",
   "execution_count": 28,
   "id": "6fb465cc-1d58-45c1-8219-4b0da289e143",
   "metadata": {},
   "outputs": [],
   "source": [
    "class LayerNorm(nn.Module):\n",
    "\n",
    "    def __init__(self, dim):\n",
    "        super().__init__()\n",
    "\n",
    "        # LayerNorm includes scale (gamma) and shift (beta) parameters\n",
    "        self.gamma = nn.Parameter(torch.ones(dim))\n",
    "        self.beta = nn.Parameter(torch.zeros(dim))\n",
    "\n",
    "    def forward(self, X):\n",
    "        # ----- QUESTION: Which dimension do we want to normalize across? -----\n",
    "        # Our dims are (B, T, n_embd)\n",
    "        # - B is the number of batches\n",
    "        # - T is the number of tokens in each sequence\n",
    "        # - n_embd is the embedding dimension, or the number of features that represents each token\n",
    "        # We want to normalize across the feature dimension to normalize the activations of each token independently.\n",
    "        # This ensures that each token has a similar distrbution of activations, regardless of its position in the sequence.\n",
    "        # ----- ANSWER: The feature dimension, -1\n",
    "        X = X - X.mean(dim=-1, keepdim=True)\n",
    "        X = X / torch.sqrt((X.var(dim=-1, keepdim=True) + 1e-5))\n",
    "        X = self.gamma * X + self.beta\n",
    "        \n",
    "        return X"
   ]
  },
  {
   "cell_type": "code",
   "execution_count": 29,
   "id": "1ae02d7e-cbe0-4772-b2fa-a9a4da273015",
   "metadata": {},
   "outputs": [],
   "source": [
    "class FeedForward(nn.Module):\n",
    "\n",
    "    def __init__(self, input_dim, output_dim):\n",
    "        super().__init__()\n",
    "\n",
    "        hidden_dim = 4 * input_dim\n",
    "\n",
    "        self.layers = nn.Sequential(OrderedDict([\n",
    "            ('fc1', nn.Linear(input_dim, hidden_dim)),\n",
    "            ('relu', nn.ReLU()),\n",
    "            ('fc2', nn.Linear(hidden_dim, output_dim))\n",
    "        ]))\n",
    "\n",
    "    def forward(self, X):\n",
    "        out = self.layers(X)\n",
    "        return out"
   ]
  },
  {
   "cell_type": "code",
   "execution_count": 30,
   "id": "33b4dd25-fe95-4529-8d73-625c0e587132",
   "metadata": {},
   "outputs": [],
   "source": [
    "class Block(nn.Module):\n",
    "\n",
    "    def __init__(self, n_embd, n_head, block_size):\n",
    "        super().__init__()\n",
    "\n",
    "        self.attention = MultiHeadAttention(n_embd, n_head, block_size)\n",
    "        self.ln1 = LayerNorm(n_embd)\n",
    "        self.feedforward = FeedForward(n_embd, n_embd)\n",
    "        self.ln2 = LayerNorm(n_embd)\n",
    "\n",
    "    def forward(self, X):\n",
    "        X = X + self.attention(self.ln1(X))\n",
    "        X = X + self.feedforward(self.ln2(X))\n",
    "        return X"
   ]
  },
  {
   "cell_type": "code",
   "execution_count": 31,
   "id": "1e6a2510-524b-414d-b7d9-315736482ccd",
   "metadata": {},
   "outputs": [],
   "source": [
    "class LanguageModel(nn.Module):\n",
    "\n",
    "    def __init__(self, vocab_size, n_embd, n_head, block_size, n_block):\n",
    "        super().__init__()\n",
    "\n",
    "        self.embedding_table = nn.Embedding(vocab_size, n_embd)\n",
    "        # LEAVING OUT THE POSITION ENCODING FOR NOW\n",
    "        self.blocks = nn.Sequential(*[Block(n_embd, n_head, block_size) for _ in range(n_block)]) # unpack list\n",
    "        # After the blocks, the dim is (B, T, n_embd)\n",
    "        # We want to project this to probabiliites for the next character, so we need (n_embd, vocab_size)\n",
    "        # ----- QUESTION: Why is the T dimension still here and what does it represent? -----\n",
    "        # The T dimension is the time dimension. Recall that we are passing in multiple examples with one sequence.\n",
    "        # This is because we are simultaneously predicting the 2nd char from the 1st, the 3rd from the 1st and 2nd, etc.\n",
    "        # ----- ANSWER: We have multiple time-dependent examples in one input sequence.\n",
    "        self.projection = nn.Linear(n_embd, vocab_size)\n",
    "\n",
    "    def forward(self, X):\n",
    "        # (B, T)\n",
    "        X_embd = self.embedding_table(X)\n",
    "        # (B, T, n_embd)\n",
    "        X_blocks = self.blocks(X_embd)\n",
    "        # (B, T, n_embd)\n",
    "        logits = self.projection(X_blocks)\n",
    "        # (B, T, vocab_size)\n",
    "        # probs = logits.softmax(dim=-1)\n",
    "        # (B, T, vocab_size)\n",
    "        return logits\n",
    "\n",
    "    @torch.no_grad()\n",
    "    def generate(self, idx, max_new_tokens):\n",
    "        # Keep in mind that idx is a sequence of encoded values\n",
    "        for _ in range(max_new_tokens):\n",
    "            # We can only take up to block_size, so crop idx\n",
    "            # Don't forget about the batch dimension, even though it's 1\n",
    "            idx_cropped = idx[:, -block_size:]\n",
    "            logits = self(idx_cropped)\n",
    "            # We will sample from the last time step\n",
    "            # Keep in mind that logits is now (B, T, C)\n",
    "            logits = logits[:, -1, :]\n",
    "            # We want to softmax over the probabilities\n",
    "            probs = F.softmax(logits, dim=-1)\n",
    "            # Sample\n",
    "            next_idx = torch.multinomial(probs, num_samples=1)\n",
    "            # idx has dim (B, T)\n",
    "            # next_idx has dim (B, 1)\n",
    "            # So we need to concatenate over the last dim\n",
    "            idx = torch.cat((idx, next_idx), dim=-1)\n",
    "        return idx"
   ]
  },
  {
   "cell_type": "code",
   "execution_count": 34,
   "id": "cee40e24-d7e0-4bad-8a26-1ecff72f603c",
   "metadata": {},
   "outputs": [
    {
     "name": "stdout",
     "output_type": "stream",
     "text": [
      "\n",
      "BCNKZbNuYY\n"
     ]
    }
   ],
   "source": [
    "x, y = get_batch('train')\n",
    "model = LanguageModel(vocab_size, n_embd, n_head, block_size, n_block)\n",
    "m = model.to(device)\n",
    "context = torch.zeros((1, 1), dtype=torch.long, device=device)\n",
    "result = m.generate(context, 10)\n",
    "print(decode(result[0].tolist()))"
   ]
  },
  {
   "cell_type": "code",
   "execution_count": 35,
   "id": "c20d28c0-71fc-4189-a17b-a849e525d6fc",
   "metadata": {},
   "outputs": [],
   "source": [
    "learning_rate = 0.001\n",
    "max_iters = 100000"
   ]
  },
  {
   "cell_type": "code",
   "execution_count": 36,
   "id": "87947570-c66c-4e4f-9ddf-ee698e8cccfd",
   "metadata": {},
   "outputs": [],
   "source": [
    "loss_fn = nn.CrossEntropyLoss()"
   ]
  },
  {
   "cell_type": "code",
   "execution_count": 37,
   "id": "a1a13e29-dcd7-4ba9-bec1-42baa9b22e08",
   "metadata": {},
   "outputs": [],
   "source": [
    "optimizer = optim.AdamW(model.parameters(), lr=learning_rate)"
   ]
  },
  {
   "cell_type": "code",
   "execution_count": 51,
   "id": "56f0a1fd-c239-4c8a-9207-5288a6d83798",
   "metadata": {},
   "outputs": [
    {
     "name": "stdout",
     "output_type": "stream",
     "text": [
      "5000 / 100000 | Loss: 1.8671\n",
      "10000 / 100000 | Loss: 1.4666\n",
      "15000 / 100000 | Loss: 2.0323\n",
      "20000 / 100000 | Loss: 1.8820\n",
      "25000 / 100000 | Loss: 1.9886\n",
      "30000 / 100000 | Loss: 2.2332\n",
      "35000 / 100000 | Loss: 2.1660\n",
      "40000 / 100000 | Loss: 1.8468\n",
      "45000 / 100000 | Loss: 2.5002\n",
      "50000 / 100000 | Loss: 2.6507\n",
      "55000 / 100000 | Loss: 1.4380\n",
      "60000 / 100000 | Loss: 2.0629\n",
      "65000 / 100000 | Loss: 1.7096\n",
      "70000 / 100000 | Loss: 1.9615\n",
      "75000 / 100000 | Loss: 1.9912\n",
      "80000 / 100000 | Loss: 1.7430\n",
      "85000 / 100000 | Loss: 1.7720\n",
      "90000 / 100000 | Loss: 1.3834\n",
      "95000 / 100000 | Loss: 2.0933\n",
      "100000 / 100000 | Loss: 1.8782\n"
     ]
    }
   ],
   "source": [
    "# TRAINING LOOP\n",
    "\n",
    "loss_data = []\n",
    "\n",
    "for iter in range(max_iters):\n",
    "    xb, yb = get_batch('train')\n",
    "\n",
    "    # Forward Pass\n",
    "    logits = model(xb)\n",
    "    loss = loss_fn(logits.transpose(-2, -1), yb)\n",
    "\n",
    "    # Backward Pass\n",
    "    optimizer.zero_grad(set_to_none=True) # clear all gradients\n",
    "    loss.backward()\n",
    "    optimizer.step()\n",
    "\n",
    "    if (iter+1) % 5000 == 0:\n",
    "        print(f\"{iter+1} / {max_iters} | Loss: {loss.item():.4f}\")\n",
    "    loss_data.append(loss.item())"
   ]
  },
  {
   "cell_type": "code",
   "execution_count": 52,
   "id": "f9213172-2cce-4879-b9a9-e3fe504a2cd4",
   "metadata": {},
   "outputs": [
    {
     "data": {
      "text/plain": [
       "[<matplotlib.lines.Line2D at 0x2846691bb00>]"
      ]
     },
     "execution_count": 52,
     "metadata": {},
     "output_type": "execute_result"
    },
    {
     "data": {
      "image/png": "[encoded data removed]",
      "text/plain": [
       "<Figure size 640x480 with 1 Axes>"
      ]
     },
     "metadata": {},
     "output_type": "display_data"
    }
   ],
   "source": [
    "averaged_loss_data = [sum(loss_data[5000*i:5000*(i+1)]) / 5000 for i in range(max_iters//5000)]\n",
    "plt.plot(averaged_loss_data)"
   ]
  },
  {
   "cell_type": "code",
   "execution_count": 53,
   "id": "59726260-5b51-4995-99ff-95c659b92cc5",
   "metadata": {},
   "outputs": [
    {
     "name": "stdout",
     "output_type": "stream",
     "text": [
      "\n",
      "Gees neam.\n",
      "\n",
      "And her nremie for oungues! 'not, and leson, prother man\n",
      "Yort, oncame\n",
      "Whick just he nows:\n",
      "The is hese Cloonck'd\n",
      "Edwave is acknown betchetlised.\n",
      "\n",
      "LUCIO:\n",
      "Gionts, him so metheres?\n",
      "\n",
      "Gam MOND:\n",
      "Amencausirsens, and you pout his dobes one: your so have crsows.\n",
      "\n",
      "No musherad.\n",
      "\n",
      "FLAURIO:\n",
      "\n",
      "Acufe,\n",
      "Enstrome lov bekating\n",
      "them sroyad, the and contly to out doest Es frerievars;\n",
      "Once not,\n",
      "Neves speak, do the dath you, wound my busbooinsin.\n",
      "\n",
      "UMARWIzaken! the villewshat; in uncloves of a dedy, for no wnom:\n",
      "Bing ess' to fallshe mesasted yearsa come,\n",
      "Themeads, I way and bowith\n",
      "to surilyed its cranceil of ulltlr somen of moulth mishedant, boalcest of disomes; ferenous,\n",
      "And brstimm scy contess.\n",
      "\n",
      "DUKE OZABETELLLO:\n",
      "BROVEN OLIZZABEL:\n",
      "Nor my, disissoned as this roment.\n",
      "Not know beblook.\n",
      "\n",
      "PULORET:\n",
      "By Looye. Lest wellie, the grows of you mpeopl-meease.\n",
      "\n",
      "'Arm, no conblese both'sted!\n",
      "Upon tendath\n",
      "Fain, I slet:\n",
      "Good intal and imused of hence flary that marion. Heriuonghed\n",
      "the lifst thy thouse alll him his r\n"
     ]
    }
   ],
   "source": [
    "context = torch.zeros((1, 1), dtype=torch.long, device=device)\n",
    "result = m.generate(context, 1000)\n",
    "print(decode(result[0].tolist()))"
   ]
  },
  {
   "cell_type": "code",
   "execution_count": null,
   "id": "0a1de661-cabb-4aef-a2a0-d24164acd34a",
   "metadata": {},
   "outputs": [],
   "source": []
  }
 ],
 "metadata": {
  "kernelspec": {
   "display_name": "Python 3 (ipykernel)",
   "language": "python",
   "name": "python3"
  },
  "language_info": {
   "codemirror_mode": {
    "name": "ipython",
    "version": 3
   },
   "file_extension": ".py",
   "mimetype": "text/x-python",
   "name": "python",
   "nbconvert_exporter": "python",
   "pygments_lexer": "ipython3",
   "version": "3.12.5"
  }
 },
 "nbformat": 4,
 "nbformat_minor": 5
}
