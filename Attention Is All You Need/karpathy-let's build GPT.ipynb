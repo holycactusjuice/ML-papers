{
 "cells": [
  {
   "cell_type": "code",
   "execution_count": 16,
   "id": "107c558a-34d2-42c4-b6d3-28aa5b12bd86",
   "metadata": {},
   "outputs": [],
   "source": [
    "import torch\n",
    "import torch.nn as nn"
   ]
  },
  {
   "cell_type": "markdown",
   "id": "2b56c2b5-2f5f-4324-94bd-1b90e7ca5bea",
   "metadata": {},
   "source": [
    "# Preparing the Dataset"
   ]
  },
  {
   "cell_type": "code",
   "execution_count": 1,
   "id": "b692f454-25de-4568-beae-0339de4ddf4e",
   "metadata": {},
   "outputs": [],
   "source": [
    "with open('shakespeare.txt', 'r', encoding='utf-8') as f:\n",
    "    text = f.read()"
   ]
  },
  {
   "cell_type": "code",
   "execution_count": 2,
   "id": "2ff8ec8e-9d47-4479-aaab-7f4f24bbec62",
   "metadata": {},
   "outputs": [
    {
     "name": "stdout",
     "output_type": "stream",
     "text": [
      "length of dataset in characters: 1115393\n"
     ]
    }
   ],
   "source": [
    "print(\"length of dataset in characters:\", len(text))"
   ]
  },
  {
   "cell_type": "code",
   "execution_count": 7,
   "id": "40a5af9e-e40c-4633-8f11-5b6cfa139ead",
   "metadata": {},
   "outputs": [],
   "source": [
    "chars = sorted(list(set(text)))\n",
    "vocab_size = len(chars)"
   ]
  },
  {
   "cell_type": "code",
   "execution_count": 14,
   "id": "53d4d26a-0667-4b4c-8729-3f0fd494c440",
   "metadata": {},
   "outputs": [],
   "source": [
    "# map chars to int and vice versa\n",
    "stoi = {ch:i for i,ch in enumerate(chars)}\n",
    "itos = {i:ch for ch,i in stoi.items()}\n",
    "# function to encode a string into a list of integers\n",
    "encode = lambda s : [stoi[ch] for ch in s]\n",
    "# function to decode a list of integers into a string\n",
    "decode = lambda l : ''.join([itos[i] for i in l])"
   ]
  },
  {
   "cell_type": "code",
   "execution_count": 18,
   "id": "00760514-683f-4e7a-854e-540e2ae6fd7a",
   "metadata": {},
   "outputs": [],
   "source": [
    "# store the dataset in a tensor\n",
    "data = torch.tensor(encode(text), dtype=torch.long)"
   ]
  },
  {
   "cell_type": "code",
   "execution_count": 21,
   "id": "6e291822-70e6-467b-aa75-14e6414f8135",
   "metadata": {},
   "outputs": [],
   "source": [
    "# 90% will be training, 10% will be validation\n",
    "n = int(0.9 * len(data))\n",
    "train_data = data[:n]\n",
    "val_data = data[n:]"
   ]
  },
  {
   "cell_type": "code",
   "execution_count": 22,
   "id": "a6e580f3-35f8-4fd6-9eaa-31697fd3cc6d",
   "metadata": {},
   "outputs": [],
   "source": [
    "# we will feed in up to 8 chars as the encoder input\n",
    "# this is the maximum context length\n",
    "block_size = 8"
   ]
  },
  {
   "cell_type": "code",
   "execution_count": 26,
   "id": "02ee8655-7562-4906-870f-499f734bb635",
   "metadata": {},
   "outputs": [
    {
     "name": "stdout",
     "output_type": "stream",
     "text": [
      "tensor([18]) --> tensor(47)\n",
      "tensor([18, 47]) --> tensor(56)\n",
      "tensor([18, 47, 56]) --> tensor(57)\n",
      "tensor([18, 47, 56, 57]) --> tensor(58)\n",
      "tensor([18, 47, 56, 57, 58]) --> tensor(1)\n",
      "tensor([18, 47, 56, 57, 58,  1]) --> tensor(15)\n",
      "tensor([18, 47, 56, 57, 58,  1, 15]) --> tensor(47)\n",
      "tensor([18, 47, 56, 57, 58,  1, 15, 47]) --> tensor(58)\n"
     ]
    }
   ],
   "source": [
    "x = train_data[:block_size]\n",
    "y = train_data[1:block_size+1]\n",
    "for i in range(block_size):\n",
    "    print(x[:i+1], '-->', y[i])"
   ]
  },
  {
   "cell_type": "code",
   "execution_count": 27,
   "id": "610c84c7-277b-4782-9e58-190889b36eb9",
   "metadata": {},
   "outputs": [],
   "source": [
    "batch_size = 4\n",
    "block_size = 8"
   ]
  },
  {
   "cell_type": "code",
   "execution_count": null,
   "id": "fd4c986f-4f0c-4d99-a4c4-27bb98dbb428",
   "metadata": {},
   "outputs": [],
   "source": [
    "def get_batch(split):\n",
    "    data = train_data if split == 'train' else val_data\n",
    "    # get batch_size number of samples\n",
    "    # ix is the first index, so it must have at least block_size chars after it\n",
    "    ix = torch.randint(len(data) - block_size, (batch_size,))\n",
    "    # stack lets us put tensor of the same shape together\n",
    "    # we can also specify the dimension that they are stacked along\n",
    "    x = torch.stack([data[i:i+block_size] for i in ix]\n",
    "    y = torch.stack([data[i+block_size] for i in ix]\n"
   ]
  },
  {
   "cell_type": "code",
   "execution_count": null,
   "id": "fce7b477-4586-4d29-b964-e4c3b67222b8",
   "metadata": {},
   "outputs": [],
   "source": []
  }
 ],
 "metadata": {
  "kernelspec": {
   "display_name": "Python 3 (ipykernel)",
   "language": "python",
   "name": "python3"
  },
  "language_info": {
   "codemirror_mode": {
    "name": "ipython",
    "version": 3
   },
   "file_extension": ".py",
   "mimetype": "text/x-python",
   "name": "python",
   "nbconvert_exporter": "python",
   "pygments_lexer": "ipython3",
   "version": "3.12.5"
  }
 },
 "nbformat": 4,
 "nbformat_minor": 5
}
